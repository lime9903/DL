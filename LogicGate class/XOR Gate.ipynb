{
 "cells": [
  {
   "cell_type": "markdown",
   "metadata": {},
   "source": [
    "XOR을 NAND와 OR, AND Gate의 조합으로 구현"
   ]
  },
  {
   "cell_type": "code",
   "execution_count": 8,
   "metadata": {},
   "outputs": [],
   "source": [
    "import numpy as np\r\n",
    "\r\n",
    "def sigmoid(x):\r\n",
    "    return 1 / (1 + np.exp(-x))\r\n",
    "\r\n",
    "def numerical_derivative(f, x):\r\n",
    "    delta_x = 1e-4\r\n",
    "    grad = np.zeros_like(x)\r\n",
    "    it = np.nditer(x, flags=['multi_index'], op_flags=['readwrite'])\r\n",
    "\r\n",
    "    while not it.finished:\r\n",
    "        idx = it.multi_index\r\n",
    "        tmp_val = x[idx]\r\n",
    "\r\n",
    "        x[idx] = float(tmp_val) + delta_x\r\n",
    "        fx1 = f(x)\r\n",
    "\r\n",
    "        x[idx] = tmp_val - delta_x\r\n",
    "        fx2 = f(x)\r\n",
    "\r\n",
    "        grad[idx] = (fx1 - fx2) / (2*delta_x)\r\n",
    "        x[idx] = tmp_val\r\n",
    "        it.iternext()\r\n",
    "    \r\n",
    "    return grad\r\n",
    "\r\n",
    "class LogicGate:\r\n",
    "\r\n",
    "    def __init__(self, gate_name, xdata, tdata):\r\n",
    "        \r\n",
    "        self.name = gate_name\r\n",
    "\r\n",
    "        self.__xdata = xdata.reshape(4, 2)\r\n",
    "        self.__tdata = tdata.reshape(4, 1)\r\n",
    "        self.__W = np.random.rand(2, 1)\r\n",
    "        self.__b = np.random.rand(1)\r\n",
    "\r\n",
    "        self.__learning_rate = 1e-2\r\n",
    "    \r\n",
    "    def loss_func(self):\r\n",
    "        delta = 1e-7\r\n",
    "\r\n",
    "        z = np.dot(self.__xdata, self.__W) + self.__b\r\n",
    "        y = sigmoid(z)\r\n",
    "\r\n",
    "        return -np.sum( self.__tdata*np.log(y+delta) + (1-self.__tdata)*np.log((1-y)+delta) )\r\n",
    "\r\n",
    "    def error_val(self):\r\n",
    "        delta = 1e-7\r\n",
    "\r\n",
    "        z = np.dot(self.__xdata, self.__W) + self.__b\r\n",
    "        y = sigmoid(z)\r\n",
    "\r\n",
    "        return -np.sum( self.__tdata*np.log(y + delta) + (1-self.__tdata)*np.log( (1-y)+delta ) )\r\n",
    "\r\n",
    "    def train(self):\r\n",
    "        f = lambda x : self.loss_func()\r\n",
    "        \r\n",
    "        for step in range(8001):\r\n",
    "            self.__W -= self.__learning_rate * numerical_derivative(f, self.__W)\r\n",
    "            self.__b -= self.__learning_rate * numerical_derivative(f, self.__b)\r\n",
    "\r\n",
    "\r\n",
    "    def predict(self, input_data):\r\n",
    "\r\n",
    "        z = np.dot(input_data, self.__W) + self.__b\r\n",
    "        y = sigmoid(z)\r\n",
    "\r\n",
    "        if y > 0.5:\r\n",
    "            result = 1\r\n",
    "        else:\r\n",
    "            result = 0\r\n",
    "        return y, result\r\n"
   ]
  },
  {
   "cell_type": "code",
   "execution_count": 9,
   "metadata": {},
   "outputs": [],
   "source": [
    "xdata = np.array([ [0, 0], [0, 1], [1, 0], [1, 1]])\r\n",
    "AND_tdata = np.array([0, 0, 0, 1])\r\n",
    "OR_tdata = np.array([0, 1, 1, 1])\r\n",
    "NAND_tdata = np.array([1, 1, 1, 0])\r\n",
    "\r\n",
    "input_data = np.array([ [0, 0], [0, 1], [1, 0], [1, 1]])\r\n",
    "\r\n",
    "s1 = []  # NAND 출력\r\n",
    "s2 = []  # OR 출력\r\n",
    "\r\n",
    "new_input_data = []     # AND 입력\r\n",
    "final_output_data = []  # AND 출력 = XOR 수행 결과\r\n",
    "\r\n",
    "NAND_obj = LogicGate(\"NAND_GATE\", xdata, NAND_tdata)\r\n",
    "OR_obj = LogicGate(\"OR_GATE\", xdata, OR_tdata)\r\n",
    "AND_obj = LogicGate(\"AND_GATE\", xdata, AND_tdata)\r\n",
    "\r\n",
    "NAND_obj.train()\r\n",
    "OR_obj.train()\r\n",
    "AND_obj.train()\r\n",
    "\r\n",
    "for index in range(len(input_data)):\r\n",
    "    s1 = NAND_obj.predict(input_data[index])\r\n",
    "    s2 = OR_obj.predict(input_data[index])\r\n",
    "\r\n",
    "    new_input_data.append(s1[-1])\r\n",
    "    new_input_data.append(s2[-1])\r\n",
    "\r\n",
    "    (sigmoid_val, logical_val) = AND_obj.predict(np.array(new_input_data))\r\n",
    "\r\n",
    "    final_output_data.append(logical_val)\r\n",
    "    new_input_data = []"
   ]
  },
  {
   "cell_type": "code",
   "execution_count": 10,
   "metadata": {},
   "outputs": [
    {
     "name": "stdout",
     "output_type": "stream",
     "text": [
      "[0 0]  =  0\n",
      "\n",
      "[0 1]  =  1\n",
      "\n",
      "[1 0]  =  1\n",
      "\n",
      "[1 1]  =  0\n",
      "\n"
     ]
    }
   ],
   "source": [
    "for index in range(len(input_data)):\r\n",
    "    print(input_data[index], \" = \", final_output_data[index], end='')\r\n",
    "    print(\"\\n\")"
   ]
  },
  {
   "cell_type": "markdown",
   "metadata": {},
   "source": [
    "- XOR 문제는 Multi-Layer로 해결할 수 있음\r\n",
    "- 각 gate는 Logistic Regression(Classification) 시스템으로 구성된다.\r\n",
    "- 신경망 기반의 딥러닝 핵심 아이디어!\r\n",
    "\r\n",
    "# Logistic Regression을 다양하게 조합하여 미래 값을 예측하는 딥러닝"
   ]
  }
 ],
 "metadata": {
  "interpreter": {
   "hash": "247ab06e135bb35fa78c5eff31b2a9a0050dcb5fb773c2631d2a29ac689eeccb"
  },
  "kernelspec": {
   "display_name": "Python 3.9.2 64-bit",
   "name": "python3"
  },
  "language_info": {
   "codemirror_mode": {
    "name": "ipython",
    "version": 3
   },
   "file_extension": ".py",
   "mimetype": "text/x-python",
   "name": "python",
   "nbconvert_exporter": "python",
   "pygments_lexer": "ipython3",
   "version": "3.9.2"
  },
  "orig_nbformat": 4
 },
 "nbformat": 4,
 "nbformat_minor": 2
}