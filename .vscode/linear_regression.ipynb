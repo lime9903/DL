{
 "metadata": {
  "language_info": {
   "codemirror_mode": {
    "name": "ipython",
    "version": 3
   },
   "file_extension": ".py",
   "mimetype": "text/x-python",
   "name": "python",
   "nbconvert_exporter": "python",
   "pygments_lexer": "ipython3",
   "version": "3.9.2"
  },
  "orig_nbformat": 4,
  "kernelspec": {
   "name": "python3",
   "display_name": "Python 3.9.2 64-bit"
  },
  "interpreter": {
   "hash": "247ab06e135bb35fa78c5eff31b2a9a0050dcb5fb773c2631d2a29ac689eeccb"
  }
 },
 "nbformat": 4,
 "nbformat_minor": 2,
 "cells": [
  {
   "cell_type": "code",
   "execution_count": 33,
   "metadata": {},
   "outputs": [],
   "source": [
    "import numpy as np\n",
    "\n",
    "# 입력 데이터 x_data와 정답 데이터 t_data 준비\n",
    "x_data = np.array([1, 2, 3, 4, 5]).reshape(5, 1)\n",
    "t_data = np.array([2, 3, 4, 5, 6]).reshape(5, 1)"
   ]
  },
  {
   "cell_type": "code",
   "execution_count": 34,
   "metadata": {},
   "outputs": [
    {
     "output_type": "stream",
     "name": "stdout",
     "text": [
      "W =  [[0.08026155]] W shape =  (1, 1) \nb =  [0.11611454] b shape =  (1,)\n"
     ]
    }
   ],
   "source": [
    "# 임의의 직선 y = Wx + b 정의\n",
    "# 임의의 값으로 가중치 W와 바이어스 b 초기화\n",
    "W = np.random.rand(1, 1)\n",
    "b = np.random.rand(1)\n",
    "print(\"W = \", W, \"W shape = \", W.shape, \"\\nb = \", b, \"b shape = \", b.shape)"
   ]
  },
  {
   "cell_type": "code",
   "execution_count": 35,
   "metadata": {},
   "outputs": [],
   "source": [
    "# 손실 함수 E(W, b) 정의\n",
    "def loss_func(x, t):\n",
    "    y = np.dot(x, W) + b\n",
    "\n",
    "    return ( (np.sum((t - y)**2)) / (len(x)) )"
   ]
  },
  {
   "cell_type": "code",
   "execution_count": 36,
   "metadata": {},
   "outputs": [],
   "source": [
    "# 수치 미분 함수 정의\n",
    "def numerical_derivative(f, x):\n",
    "    delta_x = 1e-4\n",
    "    grad = np.zeros_like(x)\n",
    "\n",
    "    it = np.nditer(x, flags=['multi_index'], op_flags=['readwrite'])\n",
    "\n",
    "    while not it.finished:\n",
    "        idx = it.multi_index\n",
    "        tmp_val = x[idx]\n",
    "        \n",
    "        x[idx] = float(tmp_val) + delta_x\n",
    "        fx1 = f(x)\n",
    "\n",
    "        x[idx] = tmp_val - delta_x\n",
    "        fx2 = f(x)\n",
    "\n",
    "        grad[idx] = (fx1 - fx2) / (2*delta_x)\n",
    "        \n",
    "        x[idx] = tmp_val\n",
    "        it.iternext()\n",
    "\n",
    "    return grad"
   ]
  },
  {
   "cell_type": "code",
   "execution_count": 37,
   "metadata": {},
   "outputs": [],
   "source": [
    "# 손실 함수 값 계산 함수\n",
    "def error_val(x, t):\n",
    "    y = np.dot(x, W) + b\n",
    "\n",
    "    return (np.sum((t - y)**2)) / (len(x))"
   ]
  },
  {
   "cell_type": "code",
   "execution_count": 38,
   "metadata": {},
   "outputs": [],
   "source": [
    "# 학습을 마친 후, 임의의 데이터에 대해 미래 값 예측 함수\n",
    "def predict(x):\n",
    "    y = np.dot(x, W) + b\n",
    "\n",
    "    return y"
   ]
  },
  {
   "cell_type": "code",
   "execution_count": 39,
   "metadata": {},
   "outputs": [
    {
     "output_type": "stream",
     "name": "stdout",
     "text": [
      "Initial error value =  14.964021121927493 \nInitial W =  [[0.08026155]] \nInitial b =  [0.11611454]\n"
     ]
    }
   ],
   "source": [
    "# 학습율 초기화 및 손실 함수가 최소가 될 때까지 W, b를 update\n",
    "learning_rate = 1e-2\n",
    "\n",
    "f = lambda x : loss_func(x_data, t_data)\n",
    "\n",
    "print(\"Initial error value = \", error_val(x_data, t_data), \"\\nInitial W = \", W, \"\\nInitial b = \", b)"
   ]
  },
  {
   "cell_type": "code",
   "execution_count": 40,
   "metadata": {},
   "outputs": [
    {
     "output_type": "stream",
     "name": "stdout",
     "text": [
      "step =  0 error value =  8.8319673052002 W =  [[0.33563714]] b =  [0.17365402]\n",
      "step =  400 error value =  0.004819932619540622 W =  [[1.04508346]] b =  [0.83727425]\n",
      "step =  800 error value =  0.00030754019643739757 W =  [[1.01138801]] b =  [0.95889575]\n",
      "step =  1200 error value =  1.962288270199139e-05 W =  [[1.00287659]] b =  [0.98961714]\n",
      "step =  1600 error value =  1.252055926335728e-06 W =  [[1.00072662]] b =  [0.99737731]\n",
      "step =  2000 error value =  7.988857022099669e-08 W =  [[1.00018354]] b =  [0.99933751]\n",
      "step =  2400 error value =  5.097363079148562e-09 W =  [[1.00004636]] b =  [0.99983266]\n",
      "step =  2800 error value =  3.252418999213905e-10 W =  [[1.00001171]] b =  [0.99995773]\n",
      "step =  3200 error value =  2.075235603558083e-11 W =  [[1.00000296]] b =  [0.99998932]\n",
      "step =  3600 error value =  1.3241230015028486e-12 W =  [[1.00000075]] b =  [0.9999973]\n",
      "step =  4000 error value =  8.44868756962981e-14 W =  [[1.00000019]] b =  [0.99999932]\n",
      "step =  4400 error value =  5.390762130566179e-15 W =  [[1.00000005]] b =  [0.99999983]\n",
      "step =  4800 error value =  3.439625092746637e-16 W =  [[1.00000001]] b =  [0.99999996]\n",
      "step =  5200 error value =  2.1946843233428672e-17 W =  [[1.]] b =  [0.99999999]\n",
      "step =  5600 error value =  1.4003378438664028e-18 W =  [[1.]] b =  [1.]\n",
      "step =  6000 error value =  8.934984666863861e-20 W =  [[1.]] b =  [1.]\n",
      "step =  6400 error value =  5.70105309649114e-21 W =  [[1.]] b =  [1.]\n",
      "step =  6800 error value =  3.637692046743615e-22 W =  [[1.]] b =  [1.]\n",
      "step =  7200 error value =  2.3212939468258938e-23 W =  [[1.]] b =  [1.]\n",
      "step =  7600 error value =  1.482411201999723e-24 W =  [[1.]] b =  [1.]\n",
      "step =  8000 error value =  9.514961179230622e-26 W =  [[1.]] b =  [1.]\n"
     ]
    }
   ],
   "source": [
    "for step in range(8001):\n",
    "    W -= learning_rate * numerical_derivative(f, W)\n",
    "    b -= learning_rate * numerical_derivative(f, b)\n",
    "\n",
    "    if(step % 400 == 0):\n",
    "        print(\"step = \", step, \"error value = \", error_val(x_data, t_data), \"W = \", W, \"b = \", b)"
   ]
  },
  {
   "cell_type": "code",
   "execution_count": 41,
   "metadata": {},
   "outputs": [
    {
     "output_type": "stream",
     "name": "stdout",
     "text": [
      "[[44.]]\n"
     ]
    }
   ],
   "source": [
    "print(predict(43))"
   ]
  }
 ]
}