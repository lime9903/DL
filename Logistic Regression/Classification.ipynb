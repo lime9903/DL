{
 "cells": [
  {
   "cell_type": "code",
   "execution_count": 47,
   "metadata": {},
   "outputs": [
    {
     "name": "stdout",
     "output_type": "stream",
     "text": [
      "x_data shape =  (10, 1) t_data shape =  (10, 1)\n"
     ]
    }
   ],
   "source": [
    "import numpy as np\r\n",
    "\r\n",
    "x_data = np.array([2, 4, 6, 8, 10, 12, 14, 16, 18 ,20]).reshape(10, 1)\r\n",
    "t_data = np.array([0, 0, 0, 0, 0, 0, 1, 1, 1, 1]).reshape(10, 1)\r\n",
    "\r\n",
    "print(\"x_data shape = \", x_data.shape, \"t_data shape = \", t_data.shape)"
   ]
  },
  {
   "cell_type": "code",
   "execution_count": 48,
   "metadata": {},
   "outputs": [
    {
     "name": "stdout",
     "output_type": "stream",
     "text": [
      "W =  [[0.97024023]] b =  [0.74282445] \n",
      "W shape =  (1, 1) b shape =  (1,)\n"
     ]
    }
   ],
   "source": [
    "W = np.random.rand(1, 1)\r\n",
    "b = np.random.rand(1)\r\n",
    "\r\n",
    "print(\"W = \", W, \"b = \", b, \"\\nW shape = \", W.shape, \"b shape = \", b.shape)"
   ]
  },
  {
   "cell_type": "code",
   "execution_count": 49,
   "metadata": {},
   "outputs": [],
   "source": [
    "def sigmoid(z):\r\n",
    "    return 1 / (1 + np.exp(-z))"
   ]
  },
  {
   "cell_type": "code",
   "execution_count": 50,
   "metadata": {},
   "outputs": [],
   "source": [
    "def loss_func(x, t):\r\n",
    "    delta = 1e-7  # log 무한대 발산 방지\r\n",
    "\r\n",
    "    z = np.dot(x, W) + b\r\n",
    "    y = sigmoid(z)\r\n",
    "\r\n",
    "    return -np.sum( t*np.log( y+delta ) + (1-t)*np.log( (1-y)+delta ) )"
   ]
  },
  {
   "cell_type": "code",
   "execution_count": 51,
   "metadata": {},
   "outputs": [],
   "source": [
    "def numerical_derivative(f, x):\r\n",
    "    delta_x = 1e-4\r\n",
    "    grad = np.zeros_like(x)\r\n",
    "\r\n",
    "    it = np.nditer(x, flags=['multi_index'], op_flags=['readwrite'])\r\n",
    "\r\n",
    "    while not it.finished:\r\n",
    "        idx = it.multi_index\r\n",
    "        tmp_val = x[idx]\r\n",
    "\r\n",
    "        x[idx] = float(tmp_val) + delta_x\r\n",
    "        fx1 = f(x)\r\n",
    "\r\n",
    "        x[idx] = tmp_val - delta_x\r\n",
    "        fx2 = f(x)\r\n",
    "\r\n",
    "        grad[idx] = (fx1 - fx2) / (2*delta_x)\r\n",
    "        x[idx] = tmp_val\r\n",
    "        it.iternext()\r\n",
    "    \r\n",
    "    return grad"
   ]
  },
  {
   "cell_type": "code",
   "execution_count": 52,
   "metadata": {},
   "outputs": [],
   "source": [
    "def error_val(x, t):\r\n",
    "    delta = 1e-7\r\n",
    "\r\n",
    "    z = np.dot(x, W) + b\r\n",
    "    y = sigmoid(z)\r\n",
    "\r\n",
    "    return -np.sum(t*np.log(y+delta) + (1-t)*np.log((1-y)+delta))"
   ]
  },
  {
   "cell_type": "code",
   "execution_count": 53,
   "metadata": {},
   "outputs": [],
   "source": [
    "def predict(x):\r\n",
    "    \r\n",
    "    z = np.dot(x, W) + b\r\n",
    "    y = sigmoid(z)\r\n",
    "\r\n",
    "    if y > 0.5:\r\n",
    "        result = 1\r\n",
    "    else:\r\n",
    "        result = 0\r\n",
    "    \r\n",
    "    return y, result"
   ]
  },
  {
   "cell_type": "code",
   "execution_count": 54,
   "metadata": {},
   "outputs": [
    {
     "name": "stdout",
     "output_type": "stream",
     "text": [
      "Initial error val =  45.256889618483065 \n",
      "Initial W =  [[0.97024023]] Initial b =  [0.74282445]\n",
      "step =  0 error value =  27.661491468788025 W =  [[0.55520446]] b =  [0.6849232]\n",
      "step =  400 error value =  2.798615126807641 W =  [[0.27938399]] b =  [-4.11764628]\n",
      "step =  800 error value =  1.7813720754496387 W =  [[0.45395268]] b =  [-5.64892986]\n",
      "step =  1200 error value =  1.5165723817992651 W =  [[0.53115334]] b =  [-6.67688587]\n",
      "step =  1600 error value =  1.3515167306447202 W =  [[0.59233206]] b =  [-7.48927976]\n",
      "step =  2000 error value =  1.2352873725919462 W =  [[0.64379721]] b =  [-8.17119488]\n",
      "step =  2400 error value =  1.147276429124431 W =  [[0.6886633]] b =  [-8.76461799]\n",
      "step =  2800 error value =  1.0773461976606298 W =  [[0.72871381]] b =  [-9.29357102]\n",
      "step =  3200 error value =  1.0198478741880197 W =  [[0.76507298]] b =  [-9.77318]\n",
      "step =  3600 error value =  0.97134794355085 W =  [[0.79849894]] b =  [-10.21363404]\n",
      "step =  4000 error value =  0.9296207817731554 W =  [[0.82952925]] b =  [-10.62214974]\n",
      "step =  4400 error value =  0.8931504227518765 W =  [[0.85856016]] b =  [-11.00404054]\n",
      "step =  4800 error value =  0.8608627856708977 W =  [[0.88589288]] b =  [-11.36334156]\n",
      "step =  5200 error value =  0.8319720601733847 W =  [[0.91176223]] b =  [-11.70319544]\n",
      "step =  5600 error value =  0.805887816412826 W =  [[0.93635516]] b =  [-12.02610166]\n",
      "step =  6000 error value =  0.7821563412043984 W =  [[0.95982315]] b =  [-12.33408376]\n",
      "step =  6400 error value =  0.760422213014203 W =  [[0.98229082]] b =  [-12.62880506]\n",
      "step =  6800 error value =  0.7404023389737183 W =  [[1.00386203]] b =  [-12.91165085]\n",
      "step =  7200 error value =  0.7218679356294629 W =  [[1.02462436]] b =  [-13.18378827]\n",
      "step =  7600 error value =  0.7046317273132373 W =  [[1.04465239]] b =  [-13.44621064]\n",
      "step =  8000 error value =  0.6885386625169473 W =  [[1.06401022]] b =  [-13.69977105]\n",
      "step =  8400 error value =  0.6734590577376619 W =  [[1.08275338]] b =  [-13.94520808]\n",
      "step =  8800 error value =  0.6592834510568913 W =  [[1.10093031]] b =  [-14.18316582]\n",
      "step =  9200 error value =  0.6459186822597517 W =  [[1.11858358]] b =  [-14.41420968]\n",
      "step =  9600 error value =  0.633284867528478 W =  [[1.13575078]] b =  [-14.63883898]\n",
      "step =  10000 error value =  0.6213130364287821 W =  [[1.15246533]] b =  [-14.85749707]\n"
     ]
    }
   ],
   "source": [
    "learning_rate = 1e-2\r\n",
    "\r\n",
    "f = lambda x : loss_func(x_data, t_data)\r\n",
    "\r\n",
    "print(\"Initial error val = \", error_val(x_data, t_data), \"\\nInitial W = \", W, \"Initial b = \", b)\r\n",
    "\r\n",
    "for step in range(10001):\r\n",
    "\r\n",
    "    W -= learning_rate * numerical_derivative(f, W)\r\n",
    "    b -= learning_rate * numerical_derivative(f, b)\r\n",
    "\r\n",
    "    if (step % 400 == 0):\r\n",
    "        print(\"step = \", step, \"error value = \", error_val(x_data, t_data), \"W = \", W, \"b = \", b)"
   ]
  },
  {
   "cell_type": "code",
   "execution_count": 55,
   "metadata": {},
   "outputs": [
    {
     "name": "stdout",
     "output_type": "stream",
     "text": [
      "[[1.11942279e-05]] 0\n"
     ]
    }
   ],
   "source": [
    "(real_val, logical_val) = predict(3)\r\n",
    "\r\n",
    "print(real_val, logical_val)"
   ]
  },
  {
   "cell_type": "code",
   "execution_count": 56,
   "metadata": {},
   "outputs": [
    {
     "name": "stdout",
     "output_type": "stream",
     "text": [
      "[[0.99128895]] 1\n"
     ]
    }
   ],
   "source": [
    "(real_val, logical_val) = predict(17)\r\n",
    "\r\n",
    "print(real_val, logical_val)"
   ]
  }
 ],
 "metadata": {
  "language_info": {
   "name": "python",
   "nbconvert_exporter": "python"
  },
  "orig_nbformat": 4
 },
 "nbformat": 4,
 "nbformat_minor": 2
}